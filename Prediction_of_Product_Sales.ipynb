{
  "nbformat": 4,
  "nbformat_minor": 0,
  "metadata": {
    "colab": {
      "provenance": [],
      "authorship_tag": "ABX9TyMbNClDcBzOzpfqSPCg0xaU",
      "include_colab_link": true
    },
    "kernelspec": {
      "name": "python3",
      "display_name": "Python 3"
    },
    "language_info": {
      "name": "python"
    }
  },
  "cells": [
    {
      "cell_type": "markdown",
      "metadata": {
        "id": "view-in-github",
        "colab_type": "text"
      },
      "source": [
        "<a href=\"https://colab.research.google.com/github/Hedi27/Prediction-of-Product-Sales/blob/main/Prediction_of_Product_Sales.ipynb\" target=\"_parent\"><img src=\"https://colab.research.google.com/assets/colab-badge.svg\" alt=\"Open In Colab\"/></a>"
      ]
    },
    {
      "cell_type": "code",
      "execution_count": null,
      "metadata": {
        "id": "u5cSTYTjv5QU"
      },
      "outputs": [],
      "source": []
    },
    {
      "cell_type": "markdown",
      "source": [
        "# **Prediction of Product Sales**\n",
        "\n",
        "\n",
        "\n",
        "*   Author : Hedi Khelifa\n",
        "\n",
        "\n",
        "\n"
      ],
      "metadata": {
        "id": "Th7tw2jxyGeE"
      }
    },
    {
      "cell_type": "markdown",
      "source": [
        "# **Project Overview**"
      ],
      "metadata": {
        "id": "HjdUAb6JyW27"
      }
    },
    {
      "cell_type": "markdown",
      "source": [
        "# **Load and Inspect Data**"
      ],
      "metadata": {
        "id": "SWSjMjV2yB0l"
      }
    },
    {
      "cell_type": "markdown",
      "source": [
        "# **Clean Data**"
      ],
      "metadata": {
        "id": "Y20aCWfkyly6"
      }
    },
    {
      "cell_type": "code",
      "source": [],
      "metadata": {
        "id": "_Br4V-pmy38p"
      },
      "execution_count": null,
      "outputs": []
    },
    {
      "cell_type": "markdown",
      "source": [
        "# **Exploratory Data Analysis**"
      ],
      "metadata": {
        "id": "PUd03hoVyvZU"
      }
    },
    {
      "cell_type": "markdown",
      "source": [
        "# **Feature Inspection**"
      ],
      "metadata": {
        "id": "xuwjXPPAy07S"
      }
    }
  ]
}